{
 "cells": [
  {
   "cell_type": "markdown",
   "metadata": {
    "id": "ggBZ-LamTwcJ"
   },
   "source": [
    "### Tesla_Stock_Market_Prediction\n",
    "\n",
    "Predict the prices of Tesla Inc. stock 60 days in the future based off of the current Close price.\n",
    "\n",
    "This project uses an artificial recurrent neural network called Long Short Term Memory (LSTM) to predict the closing stock price of a corporation (Tesla Inc.) using the past 60 day stock price."
   ]
  },
  {
   "cell_type": "code",
   "execution_count": 1,
   "metadata": {
    "id": "ez_2W_HsTtAE"
   },
   "outputs": [],
   "source": [
    "#Import the libraries\n",
    "import math\n",
    "import pandas_datareader as web\n",
    "import numpy as np\n",
    "import pandas as pd\n",
    "from sklearn.preprocessing import MinMaxScaler\n",
    "from tensorflow.keras.models import Sequential \n",
    "from tensorflow.keras.layers import Dense, LSTM\n",
    "import matplotlib.pyplot as plt\n",
    "plt.style.use('fivethirtyeight')"
   ]
  },
  {
   "cell_type": "markdown",
   "metadata": {
    "id": "qYUQ7fWkT8Uo"
   },
   "source": [
    "I will get the stock quote for the company ‘Tesla Inc.’ using the companies stock ticker (TSLA) from July 1st, 2013 to November 15th, 2020."
   ]
  },
  {
   "cell_type": "code",
   "execution_count": 34,
   "metadata": {
    "colab": {
     "base_uri": "https://localhost:8080/",
     "height": 450
    },
    "id": "0-0RG0YlT5g0",
    "outputId": "7736ec23-6153-433a-f3be-6d2be2bf52d2"
   },
   "outputs": [
    {
     "data": {
      "text/html": [
       "<div>\n",
       "<style scoped>\n",
       "    .dataframe tbody tr th:only-of-type {\n",
       "        vertical-align: middle;\n",
       "    }\n",
       "\n",
       "    .dataframe tbody tr th {\n",
       "        vertical-align: top;\n",
       "    }\n",
       "\n",
       "    .dataframe thead th {\n",
       "        text-align: right;\n",
       "    }\n",
       "</style>\n",
       "<table border=\"1\" class=\"dataframe\">\n",
       "  <thead>\n",
       "    <tr style=\"text-align: right;\">\n",
       "      <th></th>\n",
       "      <th>High</th>\n",
       "      <th>Low</th>\n",
       "      <th>Open</th>\n",
       "      <th>Close</th>\n",
       "      <th>Volume</th>\n",
       "      <th>Adj Close</th>\n",
       "    </tr>\n",
       "    <tr>\n",
       "      <th>Date</th>\n",
       "      <th></th>\n",
       "      <th></th>\n",
       "      <th></th>\n",
       "      <th></th>\n",
       "      <th></th>\n",
       "      <th></th>\n",
       "    </tr>\n",
       "  </thead>\n",
       "  <tbody>\n",
       "    <tr>\n",
       "      <th>2013-07-01</th>\n",
       "      <td>23.554001</td>\n",
       "      <td>21.830000</td>\n",
       "      <td>21.872000</td>\n",
       "      <td>23.436001</td>\n",
       "      <td>54518000.0</td>\n",
       "      <td>23.436001</td>\n",
       "    </tr>\n",
       "    <tr>\n",
       "      <th>2013-07-02</th>\n",
       "      <td>24.378000</td>\n",
       "      <td>23.100000</td>\n",
       "      <td>23.650000</td>\n",
       "      <td>23.563999</td>\n",
       "      <td>60320500.0</td>\n",
       "      <td>23.563999</td>\n",
       "    </tr>\n",
       "    <tr>\n",
       "      <th>2013-07-03</th>\n",
       "      <td>23.850000</td>\n",
       "      <td>22.854000</td>\n",
       "      <td>23.600000</td>\n",
       "      <td>23.048000</td>\n",
       "      <td>24033500.0</td>\n",
       "      <td>23.048000</td>\n",
       "    </tr>\n",
       "    <tr>\n",
       "      <th>2013-07-05</th>\n",
       "      <td>24.056000</td>\n",
       "      <td>23.139999</td>\n",
       "      <td>23.664000</td>\n",
       "      <td>24.018000</td>\n",
       "      <td>34093500.0</td>\n",
       "      <td>24.018000</td>\n",
       "    </tr>\n",
       "    <tr>\n",
       "      <th>2013-07-08</th>\n",
       "      <td>24.436001</td>\n",
       "      <td>23.764000</td>\n",
       "      <td>24.274000</td>\n",
       "      <td>24.322001</td>\n",
       "      <td>39071000.0</td>\n",
       "      <td>24.322001</td>\n",
       "    </tr>\n",
       "    <tr>\n",
       "      <th>...</th>\n",
       "      <td>...</td>\n",
       "      <td>...</td>\n",
       "      <td>...</td>\n",
       "      <td>...</td>\n",
       "      <td>...</td>\n",
       "      <td>...</td>\n",
       "    </tr>\n",
       "    <tr>\n",
       "      <th>2020-11-09</th>\n",
       "      <td>452.500000</td>\n",
       "      <td>421.000000</td>\n",
       "      <td>439.500000</td>\n",
       "      <td>421.260010</td>\n",
       "      <td>34833000.0</td>\n",
       "      <td>421.260010</td>\n",
       "    </tr>\n",
       "    <tr>\n",
       "      <th>2020-11-10</th>\n",
       "      <td>420.089996</td>\n",
       "      <td>396.029999</td>\n",
       "      <td>420.089996</td>\n",
       "      <td>410.359985</td>\n",
       "      <td>30284200.0</td>\n",
       "      <td>410.359985</td>\n",
       "    </tr>\n",
       "    <tr>\n",
       "      <th>2020-11-11</th>\n",
       "      <td>418.700012</td>\n",
       "      <td>410.579987</td>\n",
       "      <td>416.450012</td>\n",
       "      <td>417.130005</td>\n",
       "      <td>17357700.0</td>\n",
       "      <td>417.130005</td>\n",
       "    </tr>\n",
       "    <tr>\n",
       "      <th>2020-11-12</th>\n",
       "      <td>423.000000</td>\n",
       "      <td>409.519989</td>\n",
       "      <td>415.049988</td>\n",
       "      <td>411.760010</td>\n",
       "      <td>19855100.0</td>\n",
       "      <td>411.760010</td>\n",
       "    </tr>\n",
       "    <tr>\n",
       "      <th>2020-11-13</th>\n",
       "      <td>412.529999</td>\n",
       "      <td>401.660004</td>\n",
       "      <td>410.850006</td>\n",
       "      <td>408.500000</td>\n",
       "      <td>19771100.0</td>\n",
       "      <td>408.500000</td>\n",
       "    </tr>\n",
       "  </tbody>\n",
       "</table>\n",
       "<p>1859 rows × 6 columns</p>\n",
       "</div>"
      ],
      "text/plain": [
       "                  High         Low  ...      Volume   Adj Close\n",
       "Date                                ...                        \n",
       "2013-07-01   23.554001   21.830000  ...  54518000.0   23.436001\n",
       "2013-07-02   24.378000   23.100000  ...  60320500.0   23.563999\n",
       "2013-07-03   23.850000   22.854000  ...  24033500.0   23.048000\n",
       "2013-07-05   24.056000   23.139999  ...  34093500.0   24.018000\n",
       "2013-07-08   24.436001   23.764000  ...  39071000.0   24.322001\n",
       "...                ...         ...  ...         ...         ...\n",
       "2020-11-09  452.500000  421.000000  ...  34833000.0  421.260010\n",
       "2020-11-10  420.089996  396.029999  ...  30284200.0  410.359985\n",
       "2020-11-11  418.700012  410.579987  ...  17357700.0  417.130005\n",
       "2020-11-12  423.000000  409.519989  ...  19855100.0  411.760010\n",
       "2020-11-13  412.529999  401.660004  ...  19771100.0  408.500000\n",
       "\n",
       "[1859 rows x 6 columns]"
      ]
     },
     "execution_count": 34,
     "metadata": {
      "tags": []
     },
     "output_type": "execute_result"
    }
   ],
   "source": [
    "#Get the stock quote \n",
    "df = web.DataReader('TSLA', data_source='yahoo', start='2013-07-01', end='2020-11-15') \n",
    "#Show the data \n",
    "df"
   ]
  },
  {
   "cell_type": "markdown",
   "metadata": {
    "id": "Gzl3NLNXUUvs"
   },
   "source": [
    "Next, I will show the number of rows and columns in the data set. The result shows that we have 1859 rows or days the stock price was recorded, and 6 columns."
   ]
  },
  {
   "cell_type": "code",
   "execution_count": 35,
   "metadata": {
    "colab": {
     "base_uri": "https://localhost:8080/"
    },
    "id": "7-dVDM57UPCc",
    "outputId": "d4273e69-a94a-42d0-8363-e2264752ef61"
   },
   "outputs": [
    {
     "data": {
      "text/plain": [
       "(1859, 6)"
      ]
     },
     "execution_count": 35,
     "metadata": {
      "tags": []
     },
     "output_type": "execute_result"
    }
   ],
   "source": [
    "df.shape"
   ]
  },
  {
   "cell_type": "markdown",
   "metadata": {
    "id": "2jlewBkUUcuM"
   },
   "source": [
    "Create a graph to visualize the data."
   ]
  },
  {
   "cell_type": "code",
   "execution_count": 37,
   "metadata": {
    "colab": {
     "base_uri": "https://localhost:8080/",
     "height": 518
    },
    "id": "lQnUeibLUaSJ",
    "outputId": "520bd47d-ba79-4c4f-b158-2588fc77d708"
   },
   "outputs": [
    {
     "data": {
      "image/png": "[encoded data removed]",
      "text/plain": [
       "<Figure size 1152x576 with 1 Axes>"
      ]
     },
     "metadata": {
      "needs_background": "light",
      "tags": []
     },
     "output_type": "display_data"
    }
   ],
   "source": [
    "#Visualize the closing price history\n",
    "plt.figure(figsize=(16,8))\n",
    "plt.title('Close Price History')\n",
    "plt.plot(df['Close'])\n",
    "plt.xlabel('Date',fontsize=18)\n",
    "plt.ylabel('Close Price USD ($)',fontsize=18)\n",
    "plt.show()"
   ]
  },
  {
   "cell_type": "markdown",
   "metadata": {
    "id": "jjS3Deq5Unu8"
   },
   "source": [
    "Create a new data frame with only the closing price and convert it to an array. Then create a variable to store the length of the training data set. I want the training data set to contain about 80% of the data.\n",
    "\n"
   ]
  },
  {
   "cell_type": "code",
   "execution_count": 39,
   "metadata": {
    "id": "UDDsHPnOUfxs"
   },
   "outputs": [],
   "source": [
    "# Create a new dataframe with only the 'Close' column\n",
    "data = df.filter(['Close'])\n",
    "#Converting the dataframe to a numpy array\n",
    "dataset = data.values\n",
    "#Get /Compute the number of rows to train the model on\n",
    "training_data_len = math.ceil( len(dataset) *.8) "
   ]
  },
  {
   "cell_type": "markdown",
   "metadata": {
    "id": "LBnUXy87Uu7s"
   },
   "source": [
    "Now scale the data set to be values between 0 and 1 inclusive, I do this because it is generally good practice to scale your data before giving it to the neural network."
   ]
  },
  {
   "cell_type": "code",
   "execution_count": 40,
   "metadata": {
    "id": "0IoxwXDFUr5m"
   },
   "outputs": [],
   "source": [
    "#Scale the all of the data to be values between 0 and 1 \n",
    "scaler = MinMaxScaler(feature_range=(0, 1)) \n",
    "scaled_data = scaler.fit_transform(dataset)"
   ]
  },
  {
   "cell_type": "markdown",
   "metadata": {
    "id": "pFeQ98HjU2OL"
   },
   "source": [
    "Create a training data set that contains the past 60 day closing price values that we want to use to predict the 61st closing price value.\n",
    "\n",
    "So the first column in the ‘x_train’ data set will contain values from the data set from index 0 to index 59 (60 values total) and the second column will contain values from the data set from index 1 to index 60 (60 values) and so on and so forth.\n",
    "\n",
    "The ‘y_train’ data set will contain the 61st value located at index 60 for it’s first column and the 62nd value located at index 61 of the data set for it’s second value and so on and so forth."
   ]
  },
  {
   "cell_type": "code",
   "execution_count": 41,
   "metadata": {
    "id": "bm1C6EwPUymS"
   },
   "outputs": [],
   "source": [
    "#Create the scaled training data set \n",
    "train_data = scaled_data[0:training_data_len  , : ]\n",
    "#Split the data into x_train and y_train data sets\n",
    "x_train=[]\n",
    "y_train = []\n",
    "for i in range(60,len(train_data)):\n",
    "    x_train.append(train_data[i-60:i,0])\n",
    "    y_train.append(train_data[i,0])"
   ]
  },
  {
   "cell_type": "markdown",
   "metadata": {
    "id": "dcwjgzQJVBpb"
   },
   "source": [
    "Now convert the independent train data set ‘x_train’ and dependent train data set ‘y_train’ to numpy arrays so they can be used for training the LSTM model."
   ]
  },
  {
   "cell_type": "code",
   "execution_count": 42,
   "metadata": {
    "id": "vHYCpDByVCLw"
   },
   "outputs": [],
   "source": [
    "#Convert x_train and y_train to numpy arrays\n",
    "x_train, y_train = np.array(x_train), np.array(y_train)"
   ]
  },
  {
   "cell_type": "markdown",
   "metadata": {
    "id": "d-zYUjxaVJRT"
   },
   "source": [
    "Reshape the data to be 3-dimensional in the form [number of samples, number of time steps, and number of features]. The LSTM model is expecting a 3-dimensional data set."
   ]
  },
  {
   "cell_type": "code",
   "execution_count": 43,
   "metadata": {
    "id": "Pyoe1AkiVO5-"
   },
   "outputs": [],
   "source": [
    "#Reshape the data into the shape accepted by the LSTM\n",
    "x_train = np.reshape(x_train, (x_train.shape[0],x_train.shape[1],1))"
   ]
  },
  {
   "cell_type": "markdown",
   "metadata": {
    "id": "JZlWj0uMVRAK"
   },
   "source": [
    "Build the LSTM model to have two LSTM layers with 90 neurons and two Dense layers, one with 45 neurons and the other with 1 neuron."
   ]
  },
  {
   "cell_type": "code",
   "execution_count": 44,
   "metadata": {
    "id": "-I9I_UJ7VPf0"
   },
   "outputs": [],
   "source": [
    "#Build the LSTM network model\n",
    "model = Sequential()\n",
    "model.add(LSTM(units=90, return_sequences=True,input_shape=(x_train.shape[1],1)))\n",
    "model.add(LSTM(units=90, return_sequences=False))\n",
    "model.add(Dense(units=45))\n",
    "model.add(Dense(units=1))"
   ]
  },
  {
   "cell_type": "markdown",
   "metadata": {
    "id": "ER8wZc4oVQCl"
   },
   "source": [
    "Compile the model using the mean squared error (MSE) loss function and the adam optimizer."
   ]
  },
  {
   "cell_type": "code",
   "execution_count": 45,
   "metadata": {
    "id": "xHWa4-S5VeWN"
   },
   "outputs": [],
   "source": [
    "#Compile the model\n",
    "model.compile(optimizer='adam', loss='mean_squared_error')"
   ]
  },
  {
   "cell_type": "markdown",
   "metadata": {
    "id": "3c9tDtLYVjBp"
   },
   "source": [
    "Train the model using the training data sets. Note, fit is another name for train. Batch size is the total number of training examples present in a single batch, and epoch is the number of iterations when an entire data set is passed forward and backward through the neural network."
   ]
  },
  {
   "cell_type": "code",
   "execution_count": 46,
   "metadata": {
    "colab": {
     "base_uri": "https://localhost:8080/"
    },
    "id": "qIbg-KIxVl8N",
    "outputId": "35c8d6d0-2124-4868-8f48-1a54c2306f7d"
   },
   "outputs": [
    {
     "name": "stdout",
     "output_type": "stream",
     "text": [
      "1428/1428 [==============================] - 36s 25ms/step - loss: 8.9854e-05\n"
     ]
    },
    {
     "data": {
      "text/plain": [
       "<tensorflow.python.keras.callbacks.History at 0x7fc144978630>"
      ]
     },
     "execution_count": 46,
     "metadata": {
      "tags": []
     },
     "output_type": "execute_result"
    }
   ],
   "source": [
    "#Train the model\n",
    "model.fit(x_train, y_train, batch_size=1, epochs=1)"
   ]
  },
  {
   "cell_type": "markdown",
   "metadata": {
    "id": "dFdErPuIVmQs"
   },
   "source": [
    "Create a test data set."
   ]
  },
  {
   "cell_type": "code",
   "execution_count": 47,
   "metadata": {
    "id": "Wlfkp06fVm9s"
   },
   "outputs": [],
   "source": [
    "#Test data set\n",
    "test_data = scaled_data[training_data_len - 60: , : ]\n",
    "#Create the x_test and y_test data sets\n",
    "x_test = []\n",
    "y_test =  dataset[training_data_len : , : ] #Get all of the rows from index 1428 to the rest and all of the columns (in this case it's only column 'Close'), so 1859 - 1428= 431 rows of data\n",
    "for i in range(60,len(test_data)):\n",
    "    x_test.append(test_data[i-60:i,0])"
   ]
  },
  {
   "cell_type": "markdown",
   "metadata": {
    "id": "dZDvPCOxVnGj"
   },
   "source": [
    "Then convert the independent test data set ‘x_test’ to a numpy array so it can be used for testing the LSTM model."
   ]
  },
  {
   "cell_type": "code",
   "execution_count": 48,
   "metadata": {
    "id": "jjHvxRyjVnT9"
   },
   "outputs": [],
   "source": [
    "#Convert x_test to a numpy array \n",
    "x_test = np.array(x_test)"
   ]
  },
  {
   "cell_type": "markdown",
   "metadata": {
    "id": "ay-24OzXVnb7"
   },
   "source": [
    "Reshape the data to be 3-dimensional in the form [number of samples, number of time steps, and number of features]. This needs to be done, because the LSTM model is expecting a 3-dimensional data set."
   ]
  },
  {
   "cell_type": "code",
   "execution_count": 49,
   "metadata": {
    "id": "3NzZnoCEVni2"
   },
   "outputs": [],
   "source": [
    "#Reshape the data into the shape accepted by the LSTM\n",
    "x_test = np.reshape(x_test, (x_test.shape[0],x_test.shape[1],1))"
   ]
  },
  {
   "cell_type": "markdown",
   "metadata": {
    "id": "poLZHhSWVnpe"
   },
   "source": [
    "Now get the predicted values from the model using the test data."
   ]
  },
  {
   "cell_type": "code",
   "execution_count": 50,
   "metadata": {
    "id": "IxOT3f07Vnvn"
   },
   "outputs": [],
   "source": [
    "#Getting the models predicted price values\n",
    "predictions = model.predict(x_test) \n",
    "predictions = scaler.inverse_transform(predictions)#Undo scaling"
   ]
  },
  {
   "cell_type": "markdown",
   "metadata": {
    "id": "n8WZCYkHVn18"
   },
   "source": [
    "Get the root mean squared error (RMSE), which is a good measure of how accurate the model is. A value of 0 would indicate that the models predicted values match the actual values from the test data set perfectly. The lower the value the better the model performed. But usually it is best to use other metrics as well to truly get an idea of how well the model performed."
   ]
  },
  {
   "cell_type": "code",
   "execution_count": 51,
   "metadata": {
    "colab": {
     "base_uri": "https://localhost:8080/"
    },
    "id": "ttxJIVo2WmnF",
    "outputId": "2fc7b583-3329-49db-ca2a-52f37096578d"
   },
   "outputs": [
    {
     "data": {
      "text/plain": [
       "15.914518285357714"
      ]
     },
     "execution_count": 51,
     "metadata": {
      "tags": []
     },
     "output_type": "execute_result"
    }
   ],
   "source": [
    "#Calculate/Get the value of RMSE\n",
    "rmse=np.sqrt(np.mean(((predictions- y_test)**2)))\n",
    "rmse"
   ]
  },
  {
   "cell_type": "markdown",
   "metadata": {
    "id": "6_ouQfpjWm3S"
   },
   "source": [
    "Let’s plot and visualize the data."
   ]
  },
  {
   "cell_type": "code",
   "execution_count": 52,
   "metadata": {
    "colab": {
     "base_uri": "https://localhost:8080/",
     "height": 620
    },
    "id": "-SyhagEBWm_L",
    "outputId": "b356f27b-1b65-4679-ae20-d3882600ed12"
   },
   "outputs": [
    {
     "name": "stderr",
     "output_type": "stream",
     "text": [
      "/usr/local/lib/python3.6/dist-packages/ipykernel_launcher.py:4: SettingWithCopyWarning: \n",
      "A value is trying to be set on a copy of a slice from a DataFrame.\n",
      "Try using .loc[row_indexer,col_indexer] = value instead\n",
      "\n",
      "See the caveats in the documentation: https://pandas.pydata.org/pandas-docs/stable/user_guide/indexing.html#returning-a-view-versus-a-copy\n",
      "  after removing the cwd from sys.path.\n"
     ]
    },
    {
     "data": {
      "image/png": "[encoded data removed]",
      "text/plain": [
       "<Figure size 1152x576 with 1 Axes>"
      ]
     },
     "metadata": {
      "needs_background": "light",
      "tags": []
     },
     "output_type": "display_data"
    }
   ],
   "source": [
    "#Plot/Create the data for the graph\n",
    "train = data[:training_data_len]\n",
    "valid = data[training_data_len:]\n",
    "valid['Predictions'] = predictions\n",
    "#Visualize the data\n",
    "plt.figure(figsize=(16,8))\n",
    "plt.title('Model')\n",
    "plt.xlabel('Date', fontsize=18)\n",
    "plt.ylabel('Close Price USD ($)', fontsize=18)\n",
    "plt.plot(train['Close'])\n",
    "plt.plot(valid[['Close', 'Predictions']])\n",
    "plt.legend(['Train', 'Val', 'Predictions'], loc='lower right')\n",
    "plt.show()"
   ]
  },
  {
   "cell_type": "markdown",
   "metadata": {
    "id": "OkE7A_m4WnFh"
   },
   "source": [
    "Show the valid and predicted prices."
   ]
  },
  {
   "cell_type": "code",
   "execution_count": 53,
   "metadata": {
    "colab": {
     "base_uri": "https://localhost:8080/",
     "height": 450
    },
    "id": "47Z-N0geWnLJ",
    "outputId": "e9db52e8-c7ab-4b9d-86b4-6d899f4179a7"
   },
   "outputs": [
    {
     "data": {
      "text/html": [
       "<div>\n",
       "<style scoped>\n",
       "    .dataframe tbody tr th:only-of-type {\n",
       "        vertical-align: middle;\n",
       "    }\n",
       "\n",
       "    .dataframe tbody tr th {\n",
       "        vertical-align: top;\n",
       "    }\n",
       "\n",
       "    .dataframe thead th {\n",
       "        text-align: right;\n",
       "    }\n",
       "</style>\n",
       "<table border=\"1\" class=\"dataframe\">\n",
       "  <thead>\n",
       "    <tr style=\"text-align: right;\">\n",
       "      <th></th>\n",
       "      <th>Close</th>\n",
       "      <th>Predictions</th>\n",
       "    </tr>\n",
       "    <tr>\n",
       "      <th>Date</th>\n",
       "      <th></th>\n",
       "      <th></th>\n",
       "    </tr>\n",
       "  </thead>\n",
       "  <tbody>\n",
       "    <tr>\n",
       "      <th>2019-05-30</th>\n",
       "      <td>37.644001</td>\n",
       "      <td>38.654064</td>\n",
       "    </tr>\n",
       "    <tr>\n",
       "      <th>2019-05-31</th>\n",
       "      <td>37.032001</td>\n",
       "      <td>38.438358</td>\n",
       "    </tr>\n",
       "    <tr>\n",
       "      <th>2019-06-03</th>\n",
       "      <td>35.793999</td>\n",
       "      <td>38.168018</td>\n",
       "    </tr>\n",
       "    <tr>\n",
       "      <th>2019-06-04</th>\n",
       "      <td>38.720001</td>\n",
       "      <td>37.628254</td>\n",
       "    </tr>\n",
       "    <tr>\n",
       "      <th>2019-06-05</th>\n",
       "      <td>39.318001</td>\n",
       "      <td>37.929070</td>\n",
       "    </tr>\n",
       "    <tr>\n",
       "      <th>...</th>\n",
       "      <td>...</td>\n",
       "      <td>...</td>\n",
       "    </tr>\n",
       "    <tr>\n",
       "      <th>2020-11-09</th>\n",
       "      <td>421.260010</td>\n",
       "      <td>415.987335</td>\n",
       "    </tr>\n",
       "    <tr>\n",
       "      <th>2020-11-10</th>\n",
       "      <td>410.359985</td>\n",
       "      <td>416.702423</td>\n",
       "    </tr>\n",
       "    <tr>\n",
       "      <th>2020-11-11</th>\n",
       "      <td>417.130005</td>\n",
       "      <td>412.804321</td>\n",
       "    </tr>\n",
       "    <tr>\n",
       "      <th>2020-11-12</th>\n",
       "      <td>411.760010</td>\n",
       "      <td>410.126862</td>\n",
       "    </tr>\n",
       "    <tr>\n",
       "      <th>2020-11-13</th>\n",
       "      <td>408.500000</td>\n",
       "      <td>407.001556</td>\n",
       "    </tr>\n",
       "  </tbody>\n",
       "</table>\n",
       "<p>371 rows × 2 columns</p>\n",
       "</div>"
      ],
      "text/plain": [
       "                 Close  Predictions\n",
       "Date                               \n",
       "2019-05-30   37.644001    38.654064\n",
       "2019-05-31   37.032001    38.438358\n",
       "2019-06-03   35.793999    38.168018\n",
       "2019-06-04   38.720001    37.628254\n",
       "2019-06-05   39.318001    37.929070\n",
       "...                ...          ...\n",
       "2020-11-09  421.260010   415.987335\n",
       "2020-11-10  410.359985   416.702423\n",
       "2020-11-11  417.130005   412.804321\n",
       "2020-11-12  411.760010   410.126862\n",
       "2020-11-13  408.500000   407.001556\n",
       "\n",
       "[371 rows x 2 columns]"
      ]
     },
     "execution_count": 53,
     "metadata": {
      "tags": []
     },
     "output_type": "execute_result"
    }
   ],
   "source": [
    "#Show the valid and predicted prices\n",
    "valid"
   ]
  },
  {
   "cell_type": "markdown",
   "metadata": {
    "id": "0P-Gvmb1WnRM"
   },
   "source": [
    "I want to test the model some more and get the predicted closing price value of Tesla Inc. for November 18, 2020 (11/16/2020). So I will get the quote, convert the data to an array that contains only the closing price. Then I will get the last 60 day closing price and scale the data to be values between 0 and 1 inclusive. After that I will create an empty list and append the past 60 day price to it, and then convert it to a numpy array and reshape it so that I can input the data into the model. Last but not least, I will input the data into the model and get the predicted price."
   ]
  },
  {
   "cell_type": "code",
   "execution_count": 54,
   "metadata": {
    "colab": {
     "base_uri": "https://localhost:8080/"
    },
    "id": "Af5M0GaMWnW5",
    "outputId": "9eb9e50b-b019-49a6-ebfa-b98cc4bc0aee"
   },
   "outputs": [
    {
     "name": "stdout",
     "output_type": "stream",
     "text": [
      "The predicted price for 11/16/2020: [[403.6764]]\n"
     ]
    }
   ],
   "source": [
    "#Get the quote\n",
    "tesla_quote = web.DataReader('TSLA', data_source='yahoo', start='2013-07-01', end='2020-11-15')\n",
    "#Create a new dataframe\n",
    "new_df = tesla_quote.filter(['Close'])\n",
    "#Get teh last 60 day closing price \n",
    "last_60_days = new_df[-60:].values\n",
    "#Scale the data to be values between 0 and 1\n",
    "last_60_days_scaled = scaler.transform(last_60_days)\n",
    "#Create an empty list\n",
    "X_test = []\n",
    "#Append teh past 60 days\n",
    "X_test.append(last_60_days_scaled)\n",
    "#Convert the X_test data set to a numpy array\n",
    "X_test = np.array(X_test)\n",
    "#Reshape the data\n",
    "X_test = np.reshape(X_test, (X_test.shape[0], X_test.shape[1], 1))\n",
    "#Get the predicted scaled price\n",
    "pred_price = model.predict(X_test)\n",
    "#undo the scaling \n",
    "pred_price = scaler.inverse_transform(pred_price)\n",
    "print(\"The predicted price for 11/16/2020:\",pred_price)\n"
   ]
  },
  {
   "cell_type": "markdown",
   "metadata": {
    "id": "hg1PXAl1WncL"
   },
   "source": [
    "Now let’s see what the actual price for that day was."
   ]
  },
  {
   "cell_type": "code",
   "execution_count": 55,
   "metadata": {
    "colab": {
     "base_uri": "https://localhost:8080/"
    },
    "id": "t83lq3gbXVue",
    "outputId": "a9febf12-caf2-447f-97c2-8e5806c94d46"
   },
   "outputs": [
    {
     "name": "stdout",
     "output_type": "stream",
     "text": [
      "Date\n",
      "2020-11-16    408.089996\n",
      "Name: Close, dtype: float64\n"
     ]
    }
   ],
   "source": [
    "#Get the quote\n",
    "tesla_quote2 = web.DataReader('TSLA', data_source='yahoo', start='2020-11-16', end='2020-11-16')\n",
    "print(tesla_quote2['Close'])"
   ]
  },
  {
   "cell_type": "markdown",
   "metadata": {
    "id": "ZFXoiUyijU8_"
   },
   "source": [
    "We predicted Tesla Inc. stock market 2020/11/16   403.6764  at the same day \n",
    "actual price is 408.089996 . It is not bad model we can evaluate our model maybe increase neuron number etc."
   ]
  }
 ],
 "metadata": {
  "colab": {
   "collapsed_sections": [],
   "name": "Tesla_Stock_Market_Prediction.ipynb",
   "provenance": []
  },
  "kernelspec": {
   "display_name": "Python 3",
   "language": "python",
   "name": "python3"
  },
  "language_info": {
   "codemirror_mode": {
    "name": "ipython",
    "version": 3
   },
   "file_extension": ".py",
   "mimetype": "text/x-python",
   "name": "python",
   "nbconvert_exporter": "python",
   "pygments_lexer": "ipython3",
   "version": "3.7.4"
  }
 },
 "nbformat": 4,
 "nbformat_minor": 1
}
